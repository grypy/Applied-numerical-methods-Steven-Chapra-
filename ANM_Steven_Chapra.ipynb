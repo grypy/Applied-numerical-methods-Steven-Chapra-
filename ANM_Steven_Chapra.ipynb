{
 "cells": [
  {
   "cell_type": "markdown",
   "metadata": {},
   "source": [
    "# Applied Numerical Methods\n",
    "## Author: Steven C. Chapra (Tufts University)\n",
    "### Mathematical modeling, numerical methods, & problem solving\n",
    "##### Solutions by Agrippina Mwangi (Carnegie Mellon University Africa)"
   ]
  },
  {
   "cell_type": "markdown",
   "metadata": {},
   "source": [
    "<div class=\"alert alert-block alert-info\"><b>Problem statement: </b> \n",
    "A bungee jumper with a mass of 68.1 kg leaps from a stationary hot air balloon. \n",
    "Compute the velocity for the first 12s of free fall. \n",
    "Determine the terminal velocity that will be attained for an infinitely long cord\n",
    "</div> "
   ]
  },
  {
   "cell_type": "code",
   "execution_count": 1,
   "metadata": {},
   "outputs": [],
   "source": [
    "import math as mt\n",
    "import numpy as np\n",
    "import matplotlib.pyplot as plt\n",
    "import pandas as pd"
   ]
  },
  {
   "cell_type": "code",
   "execution_count": 2,
   "metadata": {},
   "outputs": [],
   "source": [
    "g = 9.81    #m/s^2 - acceleration due to gravity\n",
    "cd = 0.25   #kg/m - Drag coefficient\n",
    "m = 68.1    #kg - bungee jumper mass\n",
    "t=np.linspace(0,12,7)   #up to 12 seconds of free fall"
   ]
  },
  {
   "cell_type": "code",
   "execution_count": 3,
   "metadata": {},
   "outputs": [
    {
     "data": {
      "text/html": [
       "<div>\n",
       "<style scoped>\n",
       "    .dataframe tbody tr th:only-of-type {\n",
       "        vertical-align: middle;\n",
       "    }\n",
       "\n",
       "    .dataframe tbody tr th {\n",
       "        vertical-align: top;\n",
       "    }\n",
       "\n",
       "    .dataframe thead th {\n",
       "        text-align: right;\n",
       "    }\n",
       "</style>\n",
       "<table border=\"1\" class=\"dataframe\">\n",
       "  <thead>\n",
       "    <tr style=\"text-align: right;\">\n",
       "      <th></th>\n",
       "      <th>T(s)</th>\n",
       "      <th>Vr(m/s)</th>\n",
       "    </tr>\n",
       "  </thead>\n",
       "  <tbody>\n",
       "    <tr>\n",
       "      <th>0</th>\n",
       "      <td>0.0</td>\n",
       "      <td>0.000000</td>\n",
       "    </tr>\n",
       "    <tr>\n",
       "      <th>1</th>\n",
       "      <td>2.0</td>\n",
       "      <td>18.729073</td>\n",
       "    </tr>\n",
       "    <tr>\n",
       "      <th>2</th>\n",
       "      <td>4.0</td>\n",
       "      <td>33.111675</td>\n",
       "    </tr>\n",
       "    <tr>\n",
       "      <th>3</th>\n",
       "      <td>6.0</td>\n",
       "      <td>42.076111</td>\n",
       "    </tr>\n",
       "    <tr>\n",
       "      <th>4</th>\n",
       "      <td>8.0</td>\n",
       "      <td>46.957431</td>\n",
       "    </tr>\n",
       "    <tr>\n",
       "      <th>5</th>\n",
       "      <td>10.0</td>\n",
       "      <td>49.421347</td>\n",
       "    </tr>\n",
       "    <tr>\n",
       "      <th>6</th>\n",
       "      <td>12.0</td>\n",
       "      <td>50.617488</td>\n",
       "    </tr>\n",
       "    <tr>\n",
       "      <th>7</th>\n",
       "      <td>inf</td>\n",
       "      <td>51.693800</td>\n",
       "    </tr>\n",
       "  </tbody>\n",
       "</table>\n",
       "</div>"
      ],
      "text/plain": [
       "   T(s)    Vr(m/s)\n",
       "0   0.0   0.000000\n",
       "1   2.0  18.729073\n",
       "2   4.0  33.111675\n",
       "3   6.0  42.076111\n",
       "4   8.0  46.957431\n",
       "5  10.0  49.421347\n",
       "6  12.0  50.617488\n",
       "7   inf  51.693800"
      ]
     },
     "execution_count": 3,
     "metadata": {},
     "output_type": "execute_result"
    }
   ],
   "source": [
    "Vt = [] \n",
    "ts = []\n",
    "for i in t:\n",
    "    ts.append(i)\n",
    "    vel= 51.6938*mt.tanh(0.18977*i)\n",
    "    Vt.append(vel)\n",
    "    \n",
    "vel1=51.6938*mt.tanh(0.18977*mt.inf)\n",
    "ts.append(mt.inf)\n",
    "Vt.append(vel1)\n",
    "\n",
    "#Output display\n",
    "exer11 = {'T(s)':ts,'Vr(m/s)':Vt}   #Create a dictionary with keys as column headers and values as the list values\n",
    "\n",
    "#Formating and display of data\n",
    "exer11_analytical = pd.DataFrame(exer11)\n",
    "exer11_analytical"
   ]
  },
  {
   "cell_type": "code",
   "execution_count": 4,
   "metadata": {},
   "outputs": [
    {
     "data": {
      "image/png": "[encoded data removed]",
      "text/plain": [
       "<Figure size 576x360 with 1 Axes>"
      ]
     },
     "metadata": {
      "needs_background": "light"
     },
     "output_type": "display_data"
    }
   ],
   "source": [
    "#plotting the bunjee jump trajectory\n",
    "plt.figure(figsize=(8,5))\n",
    "plt.plot(ts,Vt,label=\"Bunjee jumper velocity\")\n",
    "plt.grid()\n",
    "plt.xlabel('Time taken(s)')\n",
    "plt.ylabel('Velocity(m/s)')\n",
    "plt.ylim([0,60])\n",
    "plt.xlim([0,13])\n",
    "plt.axhline(y=vel1,linestyle='--',color='r',label='Terminal velocity')\n",
    "plt.legend()\n",
    "plt.show()"
   ]
  },
  {
   "cell_type": "markdown",
   "metadata": {},
   "source": [
    " <div class=\"alert alert-block alert-success\"><b>Reflection:</b>This mathematical model shows the rapid acceleration of the bungee jumper as time progresses</div>"
   ]
  },
  {
   "cell_type": "markdown",
   "metadata": {},
   "source": [
    "<div class=\"alert alert-block alert-warning\"><b>Note: </b> \n",
    "Many mathematical models cant be solved exactly. The only alternative\n",
    "is to develop a numerical solution that approximates the exact solution.\n",
    "    </div> "
   ]
  },
  {
   "cell_type": "markdown",
   "metadata": {},
   "source": [
    "#### Solving the same problem using approximation technique ---> Euler Method"
   ]
  },
  {
   "cell_type": "code",
   "execution_count": 5,
   "metadata": {},
   "outputs": [
    {
     "data": {
      "text/html": [
       "<div>\n",
       "<style scoped>\n",
       "    .dataframe tbody tr th:only-of-type {\n",
       "        vertical-align: middle;\n",
       "    }\n",
       "\n",
       "    .dataframe tbody tr th {\n",
       "        vertical-align: top;\n",
       "    }\n",
       "\n",
       "    .dataframe thead th {\n",
       "        text-align: right;\n",
       "    }\n",
       "</style>\n",
       "<table border=\"1\" class=\"dataframe\">\n",
       "  <thead>\n",
       "    <tr style=\"text-align: right;\">\n",
       "      <th></th>\n",
       "      <th>Time(s)</th>\n",
       "      <th>Vel(m/s)</th>\n",
       "    </tr>\n",
       "  </thead>\n",
       "  <tbody>\n",
       "    <tr>\n",
       "      <th>0</th>\n",
       "      <td>0.0</td>\n",
       "      <td>0.000000</td>\n",
       "    </tr>\n",
       "    <tr>\n",
       "      <th>1</th>\n",
       "      <td>2.0</td>\n",
       "      <td>19.620000</td>\n",
       "    </tr>\n",
       "    <tr>\n",
       "      <th>2</th>\n",
       "      <td>4.0</td>\n",
       "      <td>36.413683</td>\n",
       "    </tr>\n",
       "    <tr>\n",
       "      <th>3</th>\n",
       "      <td>6.0</td>\n",
       "      <td>46.298321</td>\n",
       "    </tr>\n",
       "    <tr>\n",
       "      <th>4</th>\n",
       "      <td>8.0</td>\n",
       "      <td>50.180182</td>\n",
       "    </tr>\n",
       "    <tr>\n",
       "      <th>5</th>\n",
       "      <td>10.0</td>\n",
       "      <td>51.312292</td>\n",
       "    </tr>\n",
       "    <tr>\n",
       "      <th>6</th>\n",
       "      <td>12.0</td>\n",
       "      <td>51.600784</td>\n",
       "    </tr>\n",
       "    <tr>\n",
       "      <th>7</th>\n",
       "      <td>inf</td>\n",
       "      <td>51.671291</td>\n",
       "    </tr>\n",
       "  </tbody>\n",
       "</table>\n",
       "</div>"
      ],
      "text/plain": [
       "   Time(s)   Vel(m/s)\n",
       "0      0.0   0.000000\n",
       "1      2.0  19.620000\n",
       "2      4.0  36.413683\n",
       "3      6.0  46.298321\n",
       "4      8.0  50.180182\n",
       "5     10.0  51.312292\n",
       "6     12.0  51.600784\n",
       "7      inf  51.671291"
      ]
     },
     "execution_count": 5,
     "metadata": {},
     "output_type": "execute_result"
    }
   ],
   "source": [
    "Vt_euler = []\n",
    "k = []\n",
    "Vt0  = 0    #velocity at time t=0\n",
    "#Appending the initial velocity\n",
    "Vt_euler.append(Vt0)\n",
    "\n",
    "#Appending other velocities up to 12 seconds\n",
    "Vto=Vt0   #assigning the alternating value\n",
    "for i in t:\n",
    "    k.append(i)\n",
    "    Vl= Vto + 2*(g-((cd/m)*(Vto)**2))\n",
    "    Vt_euler.append(Vl)       #appending the new velocity herein\n",
    "    Vto = Vl\n",
    "\n",
    "#appending the infinite time\n",
    "k.append(mt.inf)\n",
    "\n",
    "#Create a dictionary to store the results\n",
    "exer11_euler = {'Time(s)':k,'Vel(m/s)':Vt_euler}\n",
    "\n",
    "#Formatting and display of data\n",
    "exer11_euler = pd.DataFrame(exer11_euler)\n",
    "exer11_euler"
   ]
  },
  {
   "cell_type": "code",
   "execution_count": 6,
   "metadata": {},
   "outputs": [
    {
     "data": {
      "image/png": "[encoded data removed]",
      "text/plain": [
       "<Figure size 720x504 with 1 Axes>"
      ]
     },
     "metadata": {
      "needs_background": "light"
     },
     "output_type": "display_data"
    }
   ],
   "source": [
    "#Plotting the euler method approximation against the analytical approximation\n",
    "plt.figure(figsize=(10,7))\n",
    "plt.plot(ts,Vt, linestyle='-', label='Analytical solution')\n",
    "plt.plot(k,Vt_euler, linestyle='-', label='Approximation solution')\n",
    "plt.axhline(y=vel1,linestyle='--',label='Terminal velocity',color='g')\n",
    "plt.grid()\n",
    "plt.xlabel('Time taken(s)')\n",
    "plt.ylabel('Velocity(m/s)')\n",
    "plt.ylim([0,60])\n",
    "plt.legend()\n",
    "plt.show()"
   ]
  },
  {
   "cell_type": "markdown",
   "metadata": {},
   "source": [
    "# Chapter 1 Problems"
   ]
  },
  {
   "cell_type": "code",
   "execution_count": 7,
   "metadata": {},
   "outputs": [],
   "source": [
    "#Part 1.1 and 1.2 - Solved on paper using calculus"
   ]
  },
  {
   "cell_type": "markdown",
   "metadata": {},
   "source": [
    "<div class=\"alert alert-block alert-info\"><b>Problem statement: </b> \n",
    "The information available for a bank account:\n",
    "The money earns interest which is computed as Interest = iB(i)\n",
    "i= interest rate expressed as a fraction per month\n",
    "B(i)= the initial balance at the beginning of the month\n",
    "Concept: conservation of cash\n",
    "</div> "
   ]
  },
  {
   "cell_type": "code",
   "execution_count": null,
   "metadata": {},
   "outputs": [],
   "source": []
  }
 ],
 "metadata": {
  "kernelspec": {
   "display_name": "Python 3",
   "language": "python",
   "name": "python3"
  },
  "language_info": {
   "codemirror_mode": {
    "name": "ipython",
    "version": 3
   },
   "file_extension": ".py",
   "mimetype": "text/x-python",
   "name": "python",
   "nbconvert_exporter": "python",
   "pygments_lexer": "ipython3",
   "version": "3.8.5"
  }
 },
 "nbformat": 4,
 "nbformat_minor": 4
}
